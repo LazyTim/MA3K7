{
 "cells": [
  {
   "cell_type": "markdown",
   "id": "655b63bb-4553-40f5-8ebe-9a215ce66cbc",
   "metadata": {},
   "source": [
    "# MA3K7 Assignment 34\n",
    "\n",
    "Name - Timothy Yap\n",
    "\n",
    "Student ID - 21611367"
   ]
  },
  {
   "cell_type": "code",
   "execution_count": 1,
   "id": "fefdf771-f8db-43b0-bc33-3917e3476ec3",
   "metadata": {
    "tags": []
   },
   "outputs": [
    {
     "name": "stdout",
     "output_type": "stream",
     "text": [
      "0.666391\n"
     ]
    }
   ],
   "source": [
    "# Libraries\n",
    "import numpy as np\n",
    "import scipy\n",
    "import matplotlib.pyplot as plt\n",
    "import random\n",
    "import time\n",
    "\n",
    "# Step game function\n",
    "def stepGame():\n",
    "    temp = 1\n",
    "    for _ in range(24):\n",
    "        temp += 1 + random.getrandbits(1)\n",
    "        if temp == 25:\n",
    "            return 1\n",
    "        if temp == 26:\n",
    "            return 0\n",
    "        \n",
    "# Average function\n",
    "def avgStep(n):\n",
    "    count = 0\n",
    "    for _ in range(n):\n",
    "        count += stepGame()\n",
    "    retVal = count / n\n",
    "    return retVal\n",
    "    \n",
    "num = 1000000\n",
    "print(avgStep(num))"
   ]
  },
  {
   "cell_type": "code",
   "execution_count": null,
   "id": "932f5548-f918-4afd-be00-19848a3e35cb",
   "metadata": {
    "tags": []
   },
   "outputs": [],
   "source": [
    "# Testing efficiency\n",
    "def rand1(n):\n",
    "    t0 = time.time()\n",
    "    x = 0\n",
    "    for _ in range(n):\n",
    "        x += 1 + random.getrandbits(1)\n",
    "    t1 = time.time()\n",
    "    total = t1-t0\n",
    "    return total\n",
    "\n",
    "def rand2(n):\n",
    "    t0 = time.time()\n",
    "    x = 0\n",
    "    for _ in range(n):\n",
    "        x += np.random.randint(1, 3)\n",
    "    t1 = time.time()\n",
    "    total = t1-t0\n",
    "    return total\n",
    "\n",
    "a = rand1(1000000)\n",
    "b = rand2(1000000)\n",
    "print(a)\n",
    "print(b)\n",
    "print(b / a)"
   ]
  },
  {
   "cell_type": "code",
   "execution_count": null,
   "id": "872dc1ce-82b7-44ad-b9c9-e3c9164c965a",
   "metadata": {
    "tags": []
   },
   "outputs": [],
   "source": [
    "# Step game for different end values\n",
    "def stepGame2(n):\n",
    "    temp = 1\n",
    "    for _ in range(n - 1):\n",
    "        temp += 1 + random.getrandbits(1)\n",
    "        if temp == n:\n",
    "            return 1\n",
    "        if temp == n + 1:\n",
    "            return 0\n",
    "        \n",
    "# Average function for x\n",
    "def avgStep2(n, x):\n",
    "    count = 0\n",
    "    for _ in range(n):\n",
    "        count += stepGame2(x)\n",
    "    retVal = count / n\n",
    "    return retVal\n",
    "\n",
    "print(avgStep2(1000000, 2))\n",
    "print(avgStep2(1000000, 3))\n",
    "print(avgStep2(1000000, 4))\n",
    "print(avgStep2(1000000, 5))\n",
    "print(avgStep2(1000000, 6))"
   ]
  },
  {
   "cell_type": "code",
   "execution_count": null,
   "id": "faaffab5-39f6-49f4-a90c-4cc4ecc21629",
   "metadata": {
    "tags": []
   },
   "outputs": [],
   "source": [
    "# Define our conjecture formula\n",
    "def conj(n):\n",
    "    if n == 1:\n",
    "        return 1\n",
    "    if n == 2:\n",
    "        return 0.5\n",
    "    retVal = 0.5 * conj(n-1) + 0.5 * conj(n-2)\n",
    "    return retVal\n",
    "\n",
    "# Creating a plot array using above function\n",
    "def conjPlot(n):\n",
    "    retArr = [1, 0.5]\n",
    "    for i in range(n - 2):\n",
    "        temp = 0.5 * retArr[i] + 0.5 * retArr[i+1]\n",
    "        retArr.append(temp)\n",
    "    return retArr\n",
    "\n",
    "# Initialising parameters\n",
    "num = 100\n",
    "xArr = np.arange(num)\n",
    "yRef = np.full_like(xArr, 2/3, dtype=np.double)\n",
    "yArr = conjPlot(num)\n",
    "\n",
    "# Plotting graphs\n",
    "plt.figure(figsize=(10, 5))\n",
    "plt.plot(xArr, yArr, label = 'Recurrence Relation')\n",
    "plt.plot(xArr, yRef, '--', label = r'p = $\\frac{2}{3}$')\n",
    "\n",
    "# Graph settings\n",
    "plt.title(\"Recurrence Relation Graph\", fontsize=20)\n",
    "plt.xlabel(\"x\", fontsize=16)\n",
    "plt.ylabel(\"Probability\", fontsize=16)\n",
    "plt.legend(fontsize = '14')\n",
    "plt.grid(True, alpha = 0.5)\n",
    "plt.savefig('RRgraph.png')"
   ]
  },
  {
   "cell_type": "code",
   "execution_count": null,
   "id": "e7e89eb7-7fed-4e59-9be4-f4fa71d70bf6",
   "metadata": {
    "tags": []
   },
   "outputs": [],
   "source": [
    "# Finding probabilities up to 25\n",
    "conjPlot(25)"
   ]
  },
  {
   "cell_type": "code",
   "execution_count": null,
   "id": "cbde33d4-33bf-4347-98bb-428c93385971",
   "metadata": {
    "tags": []
   },
   "outputs": [],
   "source": [
    "# Lab 7 code for explicit formula\n",
    "\n",
    "# Symbolic solution a_n\n",
    "\n",
    "# symbolic solve characteristic eq.\n",
    "import sympy as sp\n",
    "from sympy.abc import m, x, y, z, k\n",
    "\n",
    "M = sp.solve(m**2 - 0.5 * m - 0.5, m)\n",
    "\n",
    "# symbolic solve linear system\n",
    "A = sp.Matrix([[1, 1], [M[0], M[1]], [M[0]**2, M[1]**2]])\n",
    "b = sp.Matrix([1,0.5])\n",
    "C,= sp.linsolve((A, b), x, y)\n",
    "\n",
    "def an(n):\n",
    "    return sum(C[i]*M[i]**n for i in range(2))\n",
    "\n",
    "an(k)"
   ]
  },
  {
   "cell_type": "code",
   "execution_count": null,
   "id": "f16eaabb-75e4-4ab0-9607-6d0295f151f2",
   "metadata": {
    "tags": []
   },
   "outputs": [],
   "source": [
    "# Finding number of different paths\n",
    "def fib(n):\n",
    "    retArr = [0, 1]\n",
    "    for i in range(n-1):\n",
    "        temp = retArr[i] + retArr[i + 1]\n",
    "        retArr.append(temp)\n",
    "    return retArr\n",
    "\n",
    "fib(25)"
   ]
  },
  {
   "cell_type": "code",
   "execution_count": null,
   "id": "ac5c92c3-28a0-4f3c-9869-dc13923261ff",
   "metadata": {
    "tags": []
   },
   "outputs": [],
   "source": [
    "from fractions import Fraction\n",
    "\n",
    "# finding exaxt fraction\n",
    "def conj(n):\n",
    "    if n == 1:\n",
    "        return Fraction(1)\n",
    "    if n == 2:\n",
    "        return Fraction(1, 2)\n",
    "    retVal = Fraction(1, 2) * conj(n-1) + Fraction(1, 2) * conj(n-2)\n",
    "    return retVal\n",
    "\n",
    "conj(25)"
   ]
  },
  {
   "cell_type": "code",
   "execution_count": null,
   "id": "eee6631b-2497-46e7-a1e3-eda720f9d000",
   "metadata": {
    "tags": []
   },
   "outputs": [],
   "source": [
    "# Extension \n",
    "# Step game function\n",
    "def extStep(n):\n",
    "    temp = 1\n",
    "    for _ in range(n - 1):\n",
    "        temp += 1 + random.getrandbits(2)\n",
    "        if temp == n:\n",
    "            return 1\n",
    "        if temp > n:\n",
    "            return 0\n",
    "\n",
    "# Average function\n",
    "def avgExt(n, x):\n",
    "    count = 0\n",
    "    for _ in range(n):\n",
    "        count += extStep(x)\n",
    "    retVal = count / n\n",
    "    return retVal\n",
    "    \n",
    "num = 1000000\n",
    "print(avgExt(num, 25))"
   ]
  },
  {
   "cell_type": "code",
   "execution_count": null,
   "id": "236b9fe9-5bda-468e-b3c8-1a59811e60d6",
   "metadata": {
    "tags": []
   },
   "outputs": [],
   "source": [
    "for i in range(2, 6):\n",
    "    print(Fraction(5**(i-2), 4**(i-1)))\n",
    "    "
   ]
  },
  {
   "cell_type": "code",
   "execution_count": null,
   "id": "c6e2d203-88bc-47eb-9f9b-66ddb097d0b3",
   "metadata": {
    "tags": []
   },
   "outputs": [],
   "source": [
    "# Define our conjecture formula\n",
    "def conjExt(n):\n",
    "    if n == 1:\n",
    "        return 1\n",
    "    if n == 2:\n",
    "        return 1/4\n",
    "    if n == 3:\n",
    "        return 5/16\n",
    "    if n == 4:\n",
    "        return 25/64\n",
    "    retVal = 0.25 * conjExt(n-1) + 0.25 * conjExt(n-2) + 0.25 * conjExt(n-3) + 0.25 * conjExt(n-4)\n",
    "    return retVal\n",
    "\n",
    "print(conjExt(25))\n",
    "print(125/256)\n",
    "\n",
    "# Creating a plot array using above function\n",
    "def extPlot(n):\n",
    "    retArr = [1, 1/4, 5/16, 25/64]\n",
    "    for i in range(n - 4):\n",
    "        temp = 0.25 * retArr[i] + 0.25 * retArr[i+1] + 0.25 * retArr[i+2] + 0.25 * retArr[i+3]\n",
    "        retArr.append(temp)\n",
    "    return retArr\n",
    "\n",
    "# Initialising parameters\n",
    "num = 30\n",
    "xArr = np.arange(num)\n",
    "yRef = np.full_like(xArr, 2/5, dtype=np.double)\n",
    "yArr = extPlot(num)\n",
    "\n",
    "# Plotting graphs\n",
    "plt.figure(figsize=(10, 5))\n",
    "plt.plot(xArr, yArr, label = 'Extention')\n",
    "plt.plot(xArr, yRef, '--', label = r'p = $\\frac{2}{5}$')\n",
    "\n",
    "# Graph settings\n",
    "plt.title(\"Recurrence Relation Graph\", fontsize=20)\n",
    "plt.xlabel(\"x\", fontsize=16)\n",
    "plt.ylabel(\"Probability\", fontsize=16)\n",
    "plt.legend(fontsize = '14')\n",
    "plt.grid(True, alpha = 0.5)\n",
    "plt.savefig('ExtGraph.png')"
   ]
  },
  {
   "cell_type": "code",
   "execution_count": null,
   "id": "8db0ea1d-b1cf-4cb7-8621-4c5a2cd9dfec",
   "metadata": {
    "tags": []
   },
   "outputs": [],
   "source": [
    "# Extended step exercise function\n",
    "def ext2():\n",
    "    temp = 25\n",
    "    for _ in range(25):\n",
    "        temp += 1 + random.getrandbits(1)\n",
    "        if temp == 50:\n",
    "            return 1\n",
    "        if temp > 50:\n",
    "            return 0\n",
    "        \n",
    "# Average function for x\n",
    "def extAvg(n):\n",
    "    count = 0\n",
    "    for _ in range(n):\n",
    "        count += ext2()\n",
    "    retVal = count / n\n",
    "    return retVal\n",
    "\n",
    "extAvg(100000)"
   ]
  }
 ],
 "metadata": {
  "kernelspec": {
   "display_name": "Python 3 (ipykernel)",
   "language": "python",
   "name": "python3"
  },
  "language_info": {
   "codemirror_mode": {
    "name": "ipython",
    "version": 3
   },
   "file_extension": ".py",
   "mimetype": "text/x-python",
   "name": "python",
   "nbconvert_exporter": "python",
   "pygments_lexer": "ipython3",
   "version": "3.11.5"
  }
 },
 "nbformat": 4,
 "nbformat_minor": 5
}
